{
  "nbformat": 4,
  "nbformat_minor": 0,
  "metadata": {
    "colab": {
      "provenance": [],
      "authorship_tag": "ABX9TyPyl5vUVDBiM6gI796Fgb3B",
      "include_colab_link": true
    },
    "kernelspec": {
      "name": "python3",
      "display_name": "Python 3"
    },
    "language_info": {
      "name": "python"
    }
  },
  "cells": [
    {
      "cell_type": "markdown",
      "metadata": {
        "id": "view-in-github",
        "colab_type": "text"
      },
      "source": [
        "<a href=\"https://colab.research.google.com/github/amitesh080295/ADS_Final_Project_Code/blob/main/Fair_Algos_Project.ipynb\" target=\"_parent\"><img src=\"https://colab.research.google.com/assets/colab-badge.svg\" alt=\"Open In Colab\"/></a>"
      ]
    },
    {
      "cell_type": "code",
      "execution_count": null,
      "metadata": {
        "id": "MqAoBb1-4cW7"
      },
      "outputs": [],
      "source": [
        "# Import pandas and sample the first 30,000 parquet data points\n",
        "import pandas as pd\n",
        "df = pd.read_parquet('https://d37ci6vzurychx.cloudfront.net/trip-data/fhvhv_tripdata_2023-12.parquet')"
      ]
    },
    {
      "cell_type": "code",
      "source": [
        "df.columns"
      ],
      "metadata": {
        "id": "-61fwPlg-xc8",
        "colab": {
          "base_uri": "https://localhost:8080/"
        },
        "outputId": "59226055-c3a2-4baf-f9d6-c51ffc28bb1c"
      },
      "execution_count": 11,
      "outputs": [
        {
          "output_type": "execute_result",
          "data": {
            "text/plain": [
              "Index(['hvfhs_license_num', 'dispatching_base_num', 'originating_base_num',\n",
              "       'request_datetime', 'on_scene_datetime', 'pickup_datetime',\n",
              "       'dropoff_datetime', 'PULocationID', 'DOLocationID', 'trip_miles',\n",
              "       'trip_time', 'base_passenger_fare', 'tolls', 'bcf', 'sales_tax',\n",
              "       'congestion_surcharge', 'airport_fee', 'tips', 'driver_pay',\n",
              "       'shared_request_flag', 'shared_match_flag', 'access_a_ride_flag',\n",
              "       'wav_request_flag', 'wav_match_flag'],\n",
              "      dtype='object')"
            ]
          },
          "metadata": {},
          "execution_count": 11
        }
      ]
    },
    {
      "cell_type": "code",
      "source": [
        "taxi_zones = pd.read_csv('https://d37ci6vzurychx.cloudfront.net/misc/taxi_zone_lookup.csv')"
      ],
      "metadata": {
        "id": "el5olDL2AgAq"
      },
      "execution_count": 12,
      "outputs": []
    },
    {
      "cell_type": "code",
      "source": [],
      "metadata": {
        "id": "2gRN8zEBAp1Y"
      },
      "execution_count": null,
      "outputs": []
    }
  ]
}